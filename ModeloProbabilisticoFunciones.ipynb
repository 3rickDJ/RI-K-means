{
 "cells": [
  {
   "cell_type": "code",
   "execution_count": 1,
   "id": "14ec696f-9609-4633-808d-d966a0b1b022",
   "metadata": {},
   "outputs": [],
   "source": [
    "import pandas as pd\n",
    "import numpy as np"
   ]
  },
  {
   "cell_type": "code",
   "execution_count": 2,
   "id": "6eaeaaec-d82b-465e-865b-f83364e6753c",
   "metadata": {},
   "outputs": [
    {
     "data": {
      "text/html": [
       "<div>\n",
       "<style scoped>\n",
       "    .dataframe tbody tr th:only-of-type {\n",
       "        vertical-align: middle;\n",
       "    }\n",
       "\n",
       "    .dataframe tbody tr th {\n",
       "        vertical-align: top;\n",
       "    }\n",
       "\n",
       "    .dataframe thead th {\n",
       "        text-align: right;\n",
       "    }\n",
       "</style>\n",
       "<table border=\"1\" class=\"dataframe\">\n",
       "  <thead>\n",
       "    <tr style=\"text-align: right;\">\n",
       "      <th></th>\n",
       "      <th>name</th>\n",
       "      <th>1818</th>\n",
       "      <th>taking</th>\n",
       "      <th>epistolary</th>\n",
       "      <th>forgiv</th>\n",
       "      <th>lov</th>\n",
       "      <th>hum</th>\n",
       "      <th>what</th>\n",
       "      <th>then</th>\n",
       "      <th>august</th>\n",
       "      <th>...</th>\n",
       "      <th>growing</th>\n",
       "      <th>wal</th>\n",
       "      <th>goes</th>\n",
       "      <th>winds</th>\n",
       "      <th>releaseslistsexplorenews</th>\n",
       "      <th>comt</th>\n",
       "      <th>conferenc</th>\n",
       "      <th>com</th>\n",
       "      <th>months</th>\n",
       "      <th>project</th>\n",
       "    </tr>\n",
       "  </thead>\n",
       "  <tbody>\n",
       "    <tr>\n",
       "      <th>0</th>\n",
       "      <td>http://quotes.toscrape.com/</td>\n",
       "      <td>0</td>\n",
       "      <td>0</td>\n",
       "      <td>0</td>\n",
       "      <td>0</td>\n",
       "      <td>1</td>\n",
       "      <td>0</td>\n",
       "      <td>1</td>\n",
       "      <td>0</td>\n",
       "      <td>0</td>\n",
       "      <td>...</td>\n",
       "      <td>0</td>\n",
       "      <td>0</td>\n",
       "      <td>0</td>\n",
       "      <td>0</td>\n",
       "      <td>0</td>\n",
       "      <td>0</td>\n",
       "      <td>0</td>\n",
       "      <td>0</td>\n",
       "      <td>0</td>\n",
       "      <td>0</td>\n",
       "    </tr>\n",
       "    <tr>\n",
       "      <th>1</th>\n",
       "      <td>http://quotes.toscrape.com/tag/inspirational/</td>\n",
       "      <td>0</td>\n",
       "      <td>0</td>\n",
       "      <td>0</td>\n",
       "      <td>0</td>\n",
       "      <td>1</td>\n",
       "      <td>0</td>\n",
       "      <td>1</td>\n",
       "      <td>1</td>\n",
       "      <td>0</td>\n",
       "      <td>...</td>\n",
       "      <td>0</td>\n",
       "      <td>0</td>\n",
       "      <td>1</td>\n",
       "      <td>0</td>\n",
       "      <td>0</td>\n",
       "      <td>0</td>\n",
       "      <td>0</td>\n",
       "      <td>1</td>\n",
       "      <td>0</td>\n",
       "      <td>0</td>\n",
       "    </tr>\n",
       "    <tr>\n",
       "      <th>2</th>\n",
       "      <td>http://quotes.toscrape.com/tag/paraphrased/pag...</td>\n",
       "      <td>0</td>\n",
       "      <td>0</td>\n",
       "      <td>0</td>\n",
       "      <td>0</td>\n",
       "      <td>1</td>\n",
       "      <td>0</td>\n",
       "      <td>0</td>\n",
       "      <td>0</td>\n",
       "      <td>0</td>\n",
       "      <td>...</td>\n",
       "      <td>0</td>\n",
       "      <td>0</td>\n",
       "      <td>0</td>\n",
       "      <td>0</td>\n",
       "      <td>0</td>\n",
       "      <td>0</td>\n",
       "      <td>0</td>\n",
       "      <td>0</td>\n",
       "      <td>0</td>\n",
       "      <td>0</td>\n",
       "    </tr>\n",
       "    <tr>\n",
       "      <th>3</th>\n",
       "      <td>http://quotes.toscrape.com/tag/obvious/page/1/</td>\n",
       "      <td>0</td>\n",
       "      <td>0</td>\n",
       "      <td>0</td>\n",
       "      <td>0</td>\n",
       "      <td>1</td>\n",
       "      <td>0</td>\n",
       "      <td>0</td>\n",
       "      <td>0</td>\n",
       "      <td>0</td>\n",
       "      <td>...</td>\n",
       "      <td>0</td>\n",
       "      <td>0</td>\n",
       "      <td>0</td>\n",
       "      <td>0</td>\n",
       "      <td>0</td>\n",
       "      <td>0</td>\n",
       "      <td>0</td>\n",
       "      <td>0</td>\n",
       "      <td>0</td>\n",
       "      <td>0</td>\n",
       "    </tr>\n",
       "    <tr>\n",
       "      <th>4</th>\n",
       "      <td>http://quotes.toscrape.com/tag/misattributed-e...</td>\n",
       "      <td>0</td>\n",
       "      <td>0</td>\n",
       "      <td>0</td>\n",
       "      <td>0</td>\n",
       "      <td>1</td>\n",
       "      <td>0</td>\n",
       "      <td>0</td>\n",
       "      <td>0</td>\n",
       "      <td>0</td>\n",
       "      <td>...</td>\n",
       "      <td>0</td>\n",
       "      <td>0</td>\n",
       "      <td>0</td>\n",
       "      <td>0</td>\n",
       "      <td>0</td>\n",
       "      <td>0</td>\n",
       "      <td>0</td>\n",
       "      <td>0</td>\n",
       "      <td>0</td>\n",
       "      <td>0</td>\n",
       "    </tr>\n",
       "  </tbody>\n",
       "</table>\n",
       "<p>5 rows × 1826 columns</p>\n",
       "</div>"
      ],
      "text/plain": [
       "                                                name  1818  taking  \\\n",
       "0                        http://quotes.toscrape.com/     0       0   \n",
       "1      http://quotes.toscrape.com/tag/inspirational/     0       0   \n",
       "2  http://quotes.toscrape.com/tag/paraphrased/pag...     0       0   \n",
       "3     http://quotes.toscrape.com/tag/obvious/page/1/     0       0   \n",
       "4  http://quotes.toscrape.com/tag/misattributed-e...     0       0   \n",
       "\n",
       "   epistolary  forgiv  lov  hum  what  then  august  ...  growing  wal  goes  \\\n",
       "0           0       0    1    0     1     0       0  ...        0    0     0   \n",
       "1           0       0    1    0     1     1       0  ...        0    0     1   \n",
       "2           0       0    1    0     0     0       0  ...        0    0     0   \n",
       "3           0       0    1    0     0     0       0  ...        0    0     0   \n",
       "4           0       0    1    0     0     0       0  ...        0    0     0   \n",
       "\n",
       "   winds  releaseslistsexplorenews  comt  conferenc  com  months  project  \n",
       "0      0                         0     0          0    0       0        0  \n",
       "1      0                         0     0          0    1       0        0  \n",
       "2      0                         0     0          0    0       0        0  \n",
       "3      0                         0     0          0    0       0        0  \n",
       "4      0                         0     0          0    0       0        0  \n",
       "\n",
       "[5 rows x 1826 columns]"
      ]
     },
     "execution_count": 2,
     "metadata": {},
     "output_type": "execute_result"
    }
   ],
   "source": [
    "boolean_matrix = pd.read_csv('tf.csv')\n",
    "boolean_matrix.head()"
   ]
  },
  {
   "cell_type": "markdown",
   "id": "2f7197c1-c350-463a-b249-c7b88f6e7fc0",
   "metadata": {},
   "source": [
    "# get_pj_qj"
   ]
  },
  {
   "cell_type": "code",
   "execution_count": 3,
   "id": "578ad49f-dae4-400a-83fb-2b5c96bcc87e",
   "metadata": {},
   "outputs": [],
   "source": [
    "def get_pj_qj(boolean_matrix: pd.DataFrame)-> tuple:\n",
    "    row_size = boolean_matrix.shape[1]\n",
    "    pj = np.full((row_size), 0.5)\n",
    "    qj = np.array(boolean_matrix.sum(axis=0) / row_size)\n",
    "    return pj, qj"
   ]
  },
  {
   "cell_type": "code",
   "execution_count": 38,
   "id": "aa963efd-8d9d-4fae-851b-465b39b95c31",
   "metadata": {},
   "outputs": [
    {
     "name": "stdout",
     "output_type": "stream",
     "text": [
      "[0.5 0.5 0.5 ... 0.5 0.5 0.5]\n",
      "[0.00054795 0.00054795 0.00054795 ... 0.00438356 0.00054795 0.00054795]\n"
     ]
    }
   ],
   "source": [
    "values = boolean_matrix.iloc[:,1:] # tomar solo las columnas con numero, ignorar la url\n",
    "pj, qj = get_pj_qj(values)\n",
    "print(pj)\n",
    "print(qj)"
   ]
  },
  {
   "cell_type": "markdown",
   "id": "a40a2dfc-a95d-497c-b271-9da24fb6779b",
   "metadata": {},
   "source": [
    "# Consulta"
   ]
  },
  {
   "cell_type": "code",
   "execution_count": 22,
   "id": "bbae4ed1-6870-4c53-93e1-560820398f01",
   "metadata": {},
   "outputs": [],
   "source": [
    "import process_text\n",
    "import re"
   ]
  },
  {
   "cell_type": "code",
   "execution_count": 23,
   "id": "9cedfbb7-2e53-4ee4-b569-606f8d9b6147",
   "metadata": {},
   "outputs": [],
   "source": [
    "consulta_raw = 'In 1879, Albert Einstein was born in Ulm, Germany. He completed his Ph.D. at the University of Zurich by 1909. His 1905 paper explaining the photoelectric effect, the basis of electronics, earned him the Nobel Prize in 1921. His first paper on Special Relativity Theory, also published in 1905, changed the world.'"
   ]
  },
  {
   "cell_type": "code",
   "execution_count": 24,
   "id": "aed9067c-ab18-4536-903a-b571a3dda250",
   "metadata": {},
   "outputs": [],
   "source": [
    "corpus_stems = boolean_matrix.columns[1:]"
   ]
  },
  {
   "cell_type": "code",
   "execution_count": 12,
   "id": "d808517f-e6b4-4e87-99ec-21ffa4666622",
   "metadata": {},
   "outputs": [],
   "source": [
    "def vector_consulta(consulta, corpus_stems):\n",
    "    import re\n",
    "    import process_text\n",
    "    tokens = re.split(r\"[^a-z0-9]+\", consulta)\n",
    "    query_data = process_text.ProcessData('query', tokens)\n",
    "    vector_query = []\n",
    "    for stem in corpus_stems:\n",
    "        if stem in query_data.stems:\n",
    "            vector_query.append(1)\n",
    "        else:\n",
    "            vector_query.append(0)\n",
    "    return np.array(vector_query)"
   ]
  },
  {
   "cell_type": "code",
   "execution_count": 26,
   "id": "5e273a6c-8618-4f0b-a02b-fb2a3bc93de5",
   "metadata": {},
   "outputs": [],
   "source": [
    "q = vector_consulta(consulta_raw, corpus_stems)"
   ]
  },
  {
   "cell_type": "markdown",
   "id": "8563b1b9-66a6-4fa4-b236-8d3f64a0c969",
   "metadata": {},
   "source": [
    "# semejanza"
   ]
  },
  {
   "cell_type": "code",
   "execution_count": 5,
   "id": "9fc861c4-e77c-4ce3-b35a-5ef8c741a8d5",
   "metadata": {},
   "outputs": [],
   "source": [
    "def get_sem_table(consulta_vector, boolean_matrix):\n",
    "    q = consulta_vector\n",
    "    pj, qj = get_pj_qj(boolean_matrix)\n",
    "    semejanza = ( (q * boolean_matrix) *  np.log10((  pj*(1-qj)  )/ (  qj*(1-pj)  )) ).sum(axis=1)\n",
    "    return semejanza"
   ]
  },
  {
   "cell_type": "code",
   "execution_count": 28,
   "id": "270a1667-1986-42cb-ab25-c62164f8cbc0",
   "metadata": {},
   "outputs": [
    {
     "data": {
      "text/plain": [
       "array([ 4.13081764,  4.0927896 ,  0.        ,  0.        ,  0.        ,\n",
       "        0.        ,  8.66629914,  8.66629914,  0.        ,  0.        ,\n",
       "        0.        ,  8.66629914,  0.        ,  6.57471132,  0.        ,\n",
       "        5.08830045,  1.91357305,  4.0927896 ,  0.        ,  6.57471132,\n",
       "        0.        ,  4.571823  ,  4.21844638,  0.        ,  4.0927896 ,\n",
       "        2.17921656,  0.        ,  0.        ,  2.17921656,  0.        ,\n",
       "        0.        ,  0.        ,  0.        ,  4.0927896 ,  0.        ,\n",
       "        4.0927896 , 10.58065162,  0.        ,  0.        ,  0.        ,\n",
       "        4.13081764,  4.13081764,  4.13081764,  4.13081764,  0.        ,\n",
       "        7.74655041,  4.13081764, 11.41217783, 51.6815864 ,  6.43569098])"
      ]
     },
     "execution_count": 28,
     "metadata": {},
     "output_type": "execute_result"
    }
   ],
   "source": [
    "semejanza = get_sem_table(q, np.array(values))\n",
    "semejanza"
   ]
  },
  {
   "cell_type": "markdown",
   "id": "762e439c-111b-4930-9ec7-7b0b23453093",
   "metadata": {},
   "source": [
    "# Concatenar nombre y ordenar"
   ]
  },
  {
   "cell_type": "code",
   "execution_count": 29,
   "id": "d336b2a3-7bec-44bf-befb-22026de8d5f0",
   "metadata": {},
   "outputs": [
    {
     "data": {
      "text/html": [
       "<div>\n",
       "<style scoped>\n",
       "    .dataframe tbody tr th:only-of-type {\n",
       "        vertical-align: middle;\n",
       "    }\n",
       "\n",
       "    .dataframe tbody tr th {\n",
       "        vertical-align: top;\n",
       "    }\n",
       "\n",
       "    .dataframe thead th {\n",
       "        text-align: right;\n",
       "    }\n",
       "</style>\n",
       "<table border=\"1\" class=\"dataframe\">\n",
       "  <thead>\n",
       "    <tr style=\"text-align: right;\">\n",
       "      <th></th>\n",
       "      <th>name</th>\n",
       "      <th>semejanza</th>\n",
       "    </tr>\n",
       "  </thead>\n",
       "  <tbody>\n",
       "    <tr>\n",
       "      <th>0</th>\n",
       "      <td>http://quotes.toscrape.com/</td>\n",
       "      <td>4.130818</td>\n",
       "    </tr>\n",
       "    <tr>\n",
       "      <th>1</th>\n",
       "      <td>http://quotes.toscrape.com/tag/inspirational/</td>\n",
       "      <td>4.092790</td>\n",
       "    </tr>\n",
       "    <tr>\n",
       "      <th>2</th>\n",
       "      <td>http://quotes.toscrape.com/tag/paraphrased/pag...</td>\n",
       "      <td>0.000000</td>\n",
       "    </tr>\n",
       "    <tr>\n",
       "      <th>3</th>\n",
       "      <td>http://quotes.toscrape.com/tag/obvious/page/1/</td>\n",
       "      <td>0.000000</td>\n",
       "    </tr>\n",
       "    <tr>\n",
       "      <th>4</th>\n",
       "      <td>http://quotes.toscrape.com/tag/misattributed-e...</td>\n",
       "      <td>0.000000</td>\n",
       "    </tr>\n",
       "  </tbody>\n",
       "</table>\n",
       "</div>"
      ],
      "text/plain": [
       "                                                name  semejanza\n",
       "0                        http://quotes.toscrape.com/   4.130818\n",
       "1      http://quotes.toscrape.com/tag/inspirational/   4.092790\n",
       "2  http://quotes.toscrape.com/tag/paraphrased/pag...   0.000000\n",
       "3     http://quotes.toscrape.com/tag/obvious/page/1/   0.000000\n",
       "4  http://quotes.toscrape.com/tag/misattributed-e...   0.000000"
      ]
     },
     "execution_count": 29,
     "metadata": {},
     "output_type": "execute_result"
    }
   ],
   "source": [
    "resultado = boolean_matrix[['name']].copy()\n",
    "resultado['semejanza'] = semejanza\n",
    "resultado.head()"
   ]
  },
  {
   "cell_type": "code",
   "execution_count": 30,
   "id": "46b0fe1a-a13d-4146-8c7a-18b5fa190353",
   "metadata": {},
   "outputs": [
    {
     "data": {
      "text/html": [
       "<div>\n",
       "<style scoped>\n",
       "    .dataframe tbody tr th:only-of-type {\n",
       "        vertical-align: middle;\n",
       "    }\n",
       "\n",
       "    .dataframe tbody tr th {\n",
       "        vertical-align: top;\n",
       "    }\n",
       "\n",
       "    .dataframe thead th {\n",
       "        text-align: right;\n",
       "    }\n",
       "</style>\n",
       "<table border=\"1\" class=\"dataframe\">\n",
       "  <thead>\n",
       "    <tr style=\"text-align: right;\">\n",
       "      <th></th>\n",
       "      <th>name</th>\n",
       "      <th>semejanza</th>\n",
       "    </tr>\n",
       "  </thead>\n",
       "  <tbody>\n",
       "    <tr>\n",
       "      <th>48</th>\n",
       "      <td>http://quotes.toscrape.com/author/Albert-Einst...</td>\n",
       "      <td>51.681586</td>\n",
       "    </tr>\n",
       "    <tr>\n",
       "      <th>47</th>\n",
       "      <td>http://quotes.toscrape.com/author/J-K-Rowling/</td>\n",
       "      <td>11.412178</td>\n",
       "    </tr>\n",
       "    <tr>\n",
       "      <th>36</th>\n",
       "      <td>http://quotes.toscrape.com/author/Marilyn-Monroe/</td>\n",
       "      <td>10.580652</td>\n",
       "    </tr>\n",
       "    <tr>\n",
       "      <th>11</th>\n",
       "      <td>http://quotes.toscrape.com/tag/love/page/1/</td>\n",
       "      <td>8.666299</td>\n",
       "    </tr>\n",
       "    <tr>\n",
       "      <th>6</th>\n",
       "      <td>http://quotes.toscrape.com/tag/love/</td>\n",
       "      <td>8.666299</td>\n",
       "    </tr>\n",
       "  </tbody>\n",
       "</table>\n",
       "</div>"
      ],
      "text/plain": [
       "                                                 name  semejanza\n",
       "48  http://quotes.toscrape.com/author/Albert-Einst...  51.681586\n",
       "47     http://quotes.toscrape.com/author/J-K-Rowling/  11.412178\n",
       "36  http://quotes.toscrape.com/author/Marilyn-Monroe/  10.580652\n",
       "11        http://quotes.toscrape.com/tag/love/page/1/   8.666299\n",
       "6                http://quotes.toscrape.com/tag/love/   8.666299"
      ]
     },
     "execution_count": 30,
     "metadata": {},
     "output_type": "execute_result"
    }
   ],
   "source": [
    "ordenados = resultado.sort_values(by=['semejanza'], ascending=False)\n",
    "ordenados.head()"
   ]
  },
  {
   "cell_type": "markdown",
   "id": "9fe28e7d-e12b-4b6d-86d7-84554ab119e8",
   "metadata": {},
   "source": [
    "# get_result(query, matriz_booleana) -> lista ordenada  "
   ]
  },
  {
   "cell_type": "code",
   "execution_count": 17,
   "id": "5c32bbdd-c724-4933-9c80-be7ba97f2b33",
   "metadata": {},
   "outputs": [],
   "source": [
    "def get_result(query_raw: str, boolean_matrix: pd.DataFrame) -> list:\n",
    "    #### hacer vector query\n",
    "    corpus_stems = boolean_matrix.columns[1:]\n",
    "    q = vector_consulta(query_raw, corpus_stems)\n",
    "    #### calcular semejanza\n",
    "    values = np.array(boolean_matrix.iloc[:,1:])\n",
    "    semejanza_lista = get_sem_table(q, values)\n",
    "    #### ordenar nombre y valores\n",
    "    resultado = boolean_matrix[['name']].copy()\n",
    "    resultado['semejanza'] = semejanza_lista\n",
    "    ordenados = resultado.sort_values(by=['semejanza'], ascending=False)\n",
    "    return list(ordenados['name'])"
   ]
  },
  {
   "cell_type": "code",
   "execution_count": 22,
   "id": "4ce21e2c-2992-4211-adaf-da73e0bcddc1",
   "metadata": {},
   "outputs": [
    {
     "data": {
      "text/plain": [
       "['http://quotes.toscrape.com/author/Thomas-A-Edison/',\n",
       " 'http://quotes.toscrape.com/',\n",
       " 'http://quotes.toscrape.com/tag/paraphrased/page/1/',\n",
       " 'http://quotes.toscrape.com/tag/obvious/page/1/',\n",
       " 'http://quotes.toscrape.com/tag/misattributed-eleanor-roosevelt/page/1/',\n",
       " 'http://quotes.toscrape.com/tag/simile/page/1/',\n",
       " 'http://quotes.toscrape.com/tag/love/',\n",
       " 'http://quotes.toscrape.com/page/2/',\n",
       " 'http://quotes.toscrape.com/tag/failure/page/1/',\n",
       " 'http://quotes.toscrape.com/tag/edison/page/1/',\n",
       " 'http://quotes.toscrape.com/tag/value/page/1/',\n",
       " 'http://quotes.toscrape.com/tag/love/page/1/',\n",
       " 'http://quotes.toscrape.com/tag/success/page/1/',\n",
       " 'http://quotes.toscrape.com/author/Eleanor-Roosevelt/',\n",
       " 'http://quotes.toscrape.com/tag/simile/',\n",
       " 'http://quotes.toscrape.com/author/Steve-Martin/',\n",
       " 'http://quotes.toscrape.com/tag/truth/',\n",
       " 'http://quotes.toscrape.com/tag/inspirational/',\n",
       " 'http://quotes.toscrape.com/tag/friends/',\n",
       " 'http://quotes.toscrape.com/tag/friendship/',\n",
       " 'http://quotes.toscrape.com/tag/reading/',\n",
       " 'https://www.zyte.com',\n",
       " 'http://quotes.toscrape.com/author/Andre-Gide/',\n",
       " 'http://quotes.toscrape.com/tag/books/',\n",
       " 'http://quotes.toscrape.com/tag/life/',\n",
       " 'http://quotes.toscrape.com/tag/humor/',\n",
       " 'http://quotes.toscrape.com/tag/adulthood/page/1/',\n",
       " 'http://quotes.toscrape.com/tag/be-yourself/page/1/',\n",
       " 'http://quotes.toscrape.com/tag/humor/page/1/',\n",
       " 'http://quotes.toscrape.com/tag/books/page/1/',\n",
       " 'http://quotes.toscrape.com/tag/classic/page/1/',\n",
       " 'http://quotes.toscrape.com/tag/aliteracy/page/1/',\n",
       " 'http://quotes.toscrape.com/tag/miracles/page/1/',\n",
       " 'http://quotes.toscrape.com/tag/inspirational/page/1/',\n",
       " 'http://quotes.toscrape.com/tag/live/page/1/',\n",
       " 'http://quotes.toscrape.com/tag/life/page/1/',\n",
       " 'http://quotes.toscrape.com/author/Marilyn-Monroe/',\n",
       " 'http://quotes.toscrape.com/tag/choices/page/1/',\n",
       " 'http://quotes.toscrape.com/tag/miracle/page/1/',\n",
       " 'http://quotes.toscrape.com/tag/abilities/page/1/',\n",
       " 'http://quotes.toscrape.com/tag/world/page/1/',\n",
       " 'http://quotes.toscrape.com/tag/deep-thoughts/page/1/',\n",
       " 'http://quotes.toscrape.com/tag/thinking/page/1/',\n",
       " 'http://quotes.toscrape.com/tag/change/page/1/',\n",
       " 'http://quotes.toscrape.com/login',\n",
       " 'http://quotes.toscrape.com/author/Jane-Austen/',\n",
       " 'http://quotes.toscrape.com/',\n",
       " 'http://quotes.toscrape.com/author/J-K-Rowling/',\n",
       " 'http://quotes.toscrape.com/author/Albert-Einstein/',\n",
       " 'https://www.goodreads.com/quotes']"
      ]
     },
     "execution_count": 22,
     "metadata": {},
     "output_type": "execute_result"
    }
   ],
   "source": [
    "get_result(\"The Wizard of Menlo Park (now Edison, New Jersey) by a newspaper reporter\", boolean_matrix)"
   ]
  },
  {
   "cell_type": "code",
   "execution_count": null,
   "id": "2b14f796-313a-400f-be7f-ae546557bea1",
   "metadata": {},
   "outputs": [],
   "source": []
  },
  {
   "cell_type": "markdown",
   "id": "0ae07f63-4cf2-4acc-9973-a6d0c5cf1f2e",
   "metadata": {},
   "source": [
    "# PRUEBAS"
   ]
  },
  {
   "cell_type": "code",
   "execution_count": 46,
   "id": "223d1334-0b1b-4134-8240-48d0e20b8443",
   "metadata": {},
   "outputs": [
    {
     "name": "stdout",
     "output_type": "stream",
     "text": [
      "[1.  1.5 2.  2.5 3. ]\n"
     ]
    }
   ],
   "source": [
    "# Define two NumPy arrays\n",
    "array1 = np.array([0.5, 0.5, 0.5, 0.5, 0.5])\n",
    "array2 = np.array([2, 3, 4, 5, 6])\n",
    "\n",
    "# Perform element-wise multiplication\n",
    "result = array1 * array2\n",
    "\n",
    "# The 'result' array will contain the element-wise multiplication\n",
    "print(result)\n"
   ]
  },
  {
   "cell_type": "code",
   "execution_count": 112,
   "id": "99418d10-f4c4-42d2-a18f-32abbb3eadb3",
   "metadata": {},
   "outputs": [
    {
     "name": "stdout",
     "output_type": "stream",
     "text": [
      "[[1 0 1]\n",
      " [1 0 1]\n",
      " [0 0 1]]\n"
     ]
    }
   ],
   "source": [
    "import numpy as np\n",
    "\n",
    "# Define two matrices, each with rows representing vectors\n",
    "q = np.array([1, 0, 1])\n",
    "tabla = np.array([[1, 0, 1], [1, 1, 1], [0, 1, 1]])\n",
    "\n",
    "# Perform element-wise multiplication between the two matrices\n",
    "tabla_X_q = q * tabla\n",
    "\n",
    "# The 'result' matrix will contain the element-wise multiplication\n",
    "print(tabla_X_q)"
   ]
  },
  {
   "cell_type": "code",
   "execution_count": 136,
   "id": "1f5640e1-430a-41be-ade9-d2086357fa08",
   "metadata": {},
   "outputs": [],
   "source": [
    "pj = np.array([0.5, 0.5, 0.5])\n",
    "qj = np.array([0.4, 0.5, 0.3])"
   ]
  },
  {
   "cell_type": "code",
   "execution_count": 137,
   "id": "fd4fc132-bd82-445e-bffe-27753e3b2803",
   "metadata": {},
   "outputs": [
    {
     "data": {
      "text/plain": [
       "array([0.6, 0.5, 0.7])"
      ]
     },
     "execution_count": 137,
     "metadata": {},
     "output_type": "execute_result"
    }
   ],
   "source": [
    "1-qj"
   ]
  },
  {
   "cell_type": "code",
   "execution_count": 138,
   "id": "228659fc-7ac3-4ef2-b434-2f90912749e1",
   "metadata": {},
   "outputs": [
    {
     "data": {
      "text/plain": [
       "array([0.3 , 0.25, 0.35])"
      ]
     },
     "execution_count": 138,
     "metadata": {},
     "output_type": "execute_result"
    }
   ],
   "source": [
    "pj*(1-qj)"
   ]
  },
  {
   "cell_type": "code",
   "execution_count": 139,
   "id": "37c38eb2-3452-4f13-8117-28c5ab536c61",
   "metadata": {},
   "outputs": [
    {
     "data": {
      "text/plain": [
       "array([0.5, 0.5, 0.5])"
      ]
     },
     "execution_count": 139,
     "metadata": {},
     "output_type": "execute_result"
    }
   ],
   "source": [
    "(1-pj)"
   ]
  },
  {
   "cell_type": "code",
   "execution_count": 140,
   "id": "fa895fbe-8c60-40cb-b47d-a36589bd24ab",
   "metadata": {},
   "outputs": [
    {
     "data": {
      "text/plain": [
       "array([0.2 , 0.25, 0.15])"
      ]
     },
     "execution_count": 140,
     "metadata": {},
     "output_type": "execute_result"
    }
   ],
   "source": [
    "qj*(1-pj)"
   ]
  },
  {
   "cell_type": "code",
   "execution_count": 141,
   "id": "02ec0f12-77a3-4c28-94db-50aed075638a",
   "metadata": {},
   "outputs": [
    {
     "data": {
      "text/plain": [
       "array([1.5       , 1.        , 2.33333333])"
      ]
     },
     "execution_count": 141,
     "metadata": {},
     "output_type": "execute_result"
    }
   ],
   "source": [
    "(  pj*(1-qj)  )/ (  qj*(1-pj)  )"
   ]
  },
  {
   "cell_type": "code",
   "execution_count": 145,
   "id": "9cf4b97e-0b09-413e-9472-612f1e002505",
   "metadata": {},
   "outputs": [
    {
     "data": {
      "text/plain": [
       "array([0.17609126, 0.        , 0.36797679])"
      ]
     },
     "execution_count": 145,
     "metadata": {},
     "output_type": "execute_result"
    }
   ],
   "source": [
    "log_pj_qj_operation = np.log10((  pj*(1-qj)  )/ (  qj*(1-pj)  ))\n",
    "log_pj_qj_operation"
   ]
  },
  {
   "cell_type": "code",
   "execution_count": 152,
   "id": "f01951a9-0fda-407c-be46-f05de4c65ed4",
   "metadata": {},
   "outputs": [
    {
     "data": {
      "text/plain": [
       "array([[0.17609126, 0.        , 0.36797679],\n",
       "       [0.17609126, 0.        , 0.36797679],\n",
       "       [0.        , 0.        , 0.36797679]])"
      ]
     },
     "execution_count": 152,
     "metadata": {},
     "output_type": "execute_result"
    }
   ],
   "source": [
    "tabla_bayes = tabla_X_q * log_pj_qj_operation\n",
    "tabla_bayes"
   ]
  },
  {
   "cell_type": "code",
   "execution_count": 155,
   "id": "aff94925-bcca-4114-b9bc-58c4f2db72c7",
   "metadata": {},
   "outputs": [
    {
     "data": {
      "text/plain": [
       "array([0.54406804, 0.54406804, 0.36797679])"
      ]
     },
     "execution_count": 155,
     "metadata": {},
     "output_type": "execute_result"
    }
   ],
   "source": [
    "semejanza = tabla_bayes.sum(axis=1)\n",
    "semejanza"
   ]
  },
  {
   "cell_type": "code",
   "execution_count": 33,
   "id": "b16fc0dd-4bbc-4efc-9574-19b301b7b516",
   "metadata": {},
   "outputs": [
    {
     "name": "stdout",
     "output_type": "stream",
     "text": [
      "Unexpected exception formatting exception. Falling back to standard exception\n"
     ]
    },
    {
     "name": "stderr",
     "output_type": "stream",
     "text": [
      "Traceback (most recent call last):\n",
      "  File \"/home/erick/tmp/crawling/roboto/venv/lib/python3.11/site-packages/IPython/core/interactiveshell.py\", line 3526, in run_code\n",
      "    exec(code_obj, self.user_global_ns, self.user_ns)\n",
      "  File \"/tmp/ipykernel_235107/4066473308.py\", line 1, in <module>\n",
      "    ( (q * boolean_matrix) *  np.log10((  pj*(1-qj)  )/ (  qj*(1-pj)  )) )\n",
      "       ~~^~~~~~~~~~~~~~~~\n",
      "  File \"/home/erick/tmp/crawling/roboto/venv/lib/python3.11/site-packages/pandas/core/generic.py\", line 2102, in __array_ufunc__\n",
      "    return arraylike.array_ufunc(self, ufunc, method, *inputs, **kwargs)\n",
      "           ^^^^^^^^^^^^^^^^^^^^^^^^^^^^^^^^^^^^^^^^^^^^^^^^^^^^^^^^^^^^^\n",
      "  File \"/home/erick/tmp/crawling/roboto/venv/lib/python3.11/site-packages/pandas/core/arraylike.py\", line 273, in array_ufunc\n",
      "    result = maybe_dispatch_ufunc_to_dunder_op(self, ufunc, method, *inputs, **kwargs)\n",
      "             ^^^^^^^^^^^^^^^^^^^^^^^^^^^^^^^^^^^^^^^^^^^^^^^^^^^^^^^^^^^^^^^^^^^^^^^^^\n",
      "  File \"ops_dispatch.pyx\", line 113, in pandas._libs.ops_dispatch.maybe_dispatch_ufunc_to_dunder_op\n",
      "  File \"/home/erick/tmp/crawling/roboto/venv/lib/python3.11/site-packages/pandas/core/ops/common.py\", line 76, in new_method\n",
      "    return method(self, other)\n",
      "           ^^^^^^^^^^^^^^^^^^^\n",
      "  File \"/home/erick/tmp/crawling/roboto/venv/lib/python3.11/site-packages/pandas/core/arraylike.py\", line 206, in __rmul__\n",
      "    return self._arith_method(other, roperator.rmul)\n",
      "           ^^^^^^^^^^^^^^^^^^^^^^^^^^^^^^^^^^^^^^^^^\n",
      "  File \"/home/erick/tmp/crawling/roboto/venv/lib/python3.11/site-packages/pandas/core/frame.py\", line 7644, in _arith_method\n",
      "    self, other = self._align_for_op(other, axis, flex=True, level=None)\n",
      "                  ^^^^^^^^^^^^^^^^^^^^^^^^^^^^^^^^^^^^^^^^^^^^^^^^^^^^^^\n",
      "  File \"/home/erick/tmp/crawling/roboto/venv/lib/python3.11/site-packages/pandas/core/frame.py\", line 7875, in _align_for_op\n",
      "    right = to_series(right)\n",
      "            ^^^^^^^^^^^^^^^^\n",
      "  File \"/home/erick/tmp/crawling/roboto/venv/lib/python3.11/site-packages/pandas/core/frame.py\", line 7867, in to_series\n",
      "    raise ValueError(\n",
      "ValueError: Unable to coerce to Series, length must be 1826: given 1825\n",
      "\n",
      "During handling of the above exception, another exception occurred:\n",
      "\n",
      "Traceback (most recent call last):\n",
      "  File \"/home/erick/tmp/crawling/roboto/venv/lib/python3.11/site-packages/IPython/core/interactiveshell.py\", line 2120, in showtraceback\n",
      "    stb = self.InteractiveTB.structured_traceback(\n",
      "          ^^^^^^^^^^^^^^^^^^^^^^^^^^^^^^^^^^^^^^^^\n",
      "  File \"/home/erick/tmp/crawling/roboto/venv/lib/python3.11/site-packages/IPython/core/ultratb.py\", line 1435, in structured_traceback\n",
      "    return FormattedTB.structured_traceback(\n",
      "           ^^^^^^^^^^^^^^^^^^^^^^^^^^^^^^^^^\n",
      "  File \"/home/erick/tmp/crawling/roboto/venv/lib/python3.11/site-packages/IPython/core/ultratb.py\", line 1326, in structured_traceback\n",
      "    return VerboseTB.structured_traceback(\n",
      "           ^^^^^^^^^^^^^^^^^^^^^^^^^^^^^^^\n",
      "  File \"/home/erick/tmp/crawling/roboto/venv/lib/python3.11/site-packages/IPython/core/ultratb.py\", line 1173, in structured_traceback\n",
      "    formatted_exception = self.format_exception_as_a_whole(etype, evalue, etb, number_of_lines_of_context,\n",
      "                          ^^^^^^^^^^^^^^^^^^^^^^^^^^^^^^^^^^^^^^^^^^^^^^^^^^^^^^^^^^^^^^^^^^^^^^^^^^^^^^^^\n",
      "  File \"/home/erick/tmp/crawling/roboto/venv/lib/python3.11/site-packages/IPython/core/ultratb.py\", line 1063, in format_exception_as_a_whole\n",
      "    self.get_records(etb, number_of_lines_of_context, tb_offset) if etb else []\n",
      "    ^^^^^^^^^^^^^^^^^^^^^^^^^^^^^^^^^^^^^^^^^^^^^^^^^^^^^^^^^^^^\n",
      "  File \"/home/erick/tmp/crawling/roboto/venv/lib/python3.11/site-packages/IPython/core/ultratb.py\", line 1155, in get_records\n",
      "    FrameInfo(\n",
      "  File \"/home/erick/tmp/crawling/roboto/venv/lib/python3.11/site-packages/IPython/core/ultratb.py\", line 780, in __init__\n",
      "    ix = inspect.getsourcelines(frame)\n",
      "         ^^^^^^^^^^^^^^^^^^^^^^^^^^^^^\n",
      "  File \"/home/linuxbrew/.linuxbrew/opt/python@3.11/lib/python3.11/inspect.py\", line 1244, in getsourcelines\n",
      "    lines, lnum = findsource(object)\n",
      "                  ^^^^^^^^^^^^^^^^^^\n",
      "  File \"/home/linuxbrew/.linuxbrew/opt/python@3.11/lib/python3.11/inspect.py\", line 1081, in findsource\n",
      "    raise OSError('could not get source code')\n",
      "OSError: could not get source code\n"
     ]
    }
   ],
   "source": [
    "( (q * boolean_matrix) *  np.log10((  pj*(1-qj)  )/ (  qj*(1-pj)  )) )"
   ]
  },
  {
   "cell_type": "code",
   "execution_count": null,
   "id": "8fc3e9f9-3a1d-46ae-94f8-cc82827a53b8",
   "metadata": {},
   "outputs": [],
   "source": []
  }
 ],
 "metadata": {
  "kernelspec": {
   "display_name": "probabilistico",
   "language": "python",
   "name": "probabilistico"
  },
  "language_info": {
   "codemirror_mode": {
    "name": "ipython",
    "version": 3
   },
   "file_extension": ".py",
   "mimetype": "text/x-python",
   "name": "python",
   "nbconvert_exporter": "python",
   "pygments_lexer": "ipython3",
   "version": "3.11.6"
  }
 },
 "nbformat": 4,
 "nbformat_minor": 5
}
